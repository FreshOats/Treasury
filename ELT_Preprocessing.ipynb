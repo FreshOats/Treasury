{
 "cells": [
  {
   "cell_type": "markdown",
   "id": "9e48e90b",
   "metadata": {},
   "source": [
    "# Basic ETL\n",
    "The tables will ultimately be uploaded to Snowflake for ELT, but prior to doing this, it's imperative that the data are in the correct format per the schema, addressing any null values or data type issues. This will be the only consideration in this part of the ETL, as the heavier handling will be done via ELT in Snowflake. \n",
    "\n",
    "#### The files:\n",
    "_external_vendor_information.csv_\n",
    "- Vendor_ID VARHCAR\n",
    "- Vendor_Name VARCHAR\n",
    "- Service Type VARCHAR\n",
    "- Contract_Start_Date DATETIME\n",
    "- Contract_End_Date DATETIME\n",
    "- Amount_Paid_YTD FLOAT\n",
    "\n",
    "_portfolio_holdings.csv_\n",
    "- Holding_ID VARCHAR\n",
    "- Security_Name VARCHAR\n",
    "- Security_Type VARCHAR\n",
    "- Quantity_Held INT\n",
    "- Market_Value FLOAT\n",
    "- Acquisition_Date DATETIME\n",
    "\n",
    "_program_performance_metrics.xlsx_\n",
    "- Program_ID VARCHAR\n",
    "- Program_Name VARCHAR\n",
    "- Reporting_Period DATETIME\n",
    "- Participants VARCHAR\n",
    "- Successful_Outcomes VARCHAR\n",
    "- Program_Cost FLOAT\n",
    "\n",
    "_transactions.csv_\n",
    "- Transaction_ID (unique identifier) VARCHAR\n",
    "- Transaction_Date DATETIME\n",
    "- Transaction_Amount FLOAT\n",
    "- Transaction_Type (Expense, Revenue) VARCHAR\n",
    "- Department (e.g., Operations, Investments, Community Programs) VARCHAR\n",
    "- Vendor_Name VARCHAR\n",
    "- Description VARCHAR\n",
    "\n",
    "_unclaimed_property_records.csv_\n",
    "- Property_ID VARCHAR\n",
    "- Owner_Name VARCHAR\n",
    "- Property_Type VARCHAR\n",
    "- Reported_Date DATETIME\n",
    "- Property_Value FLOAT\n",
    "- Claim_Status VARCHAR"
   ]
  },
  {
   "cell_type": "code",
   "execution_count": 105,
   "id": "9d3ff14f",
   "metadata": {},
   "outputs": [],
   "source": [
    "import polars as pl\n",
    "\n",
    "# Read in the files\n",
    "dim_external_vendor_info = pl.read_csv(\"external_vendor_information.csv\")\n",
    "dim_portfolio_holdings = pl.read_csv(\"portfolio_holdings.csv\")\n",
    "dim_program_performance_metrics = pl.read_excel(\"program_performance_metrics.xlsx\", sheet_name=\"Program Metrics\")\n",
    "fact_transactions = pl.read_csv(\"transactions.csv\")\n",
    "fact_unclaimed_property_records = pl.read_csv(\"unclaimed_property_records.csv\")\n"
   ]
  },
  {
   "cell_type": "code",
   "execution_count": null,
   "id": "b6e43dda",
   "metadata": {},
   "outputs": [],
   "source": [
    "# Address the Numeric Columns to ensure that all values are in FLOAT format\n",
    "dim_external_vendor_info = dim_external_vendor_info.with_columns(dim_external_vendor_info[\"Amount_Paid_YTD\"]\n",
    "                                                                 .cast(pl.Float64)\n",
    "                                                                 .alias(\"Amount_Paid_YTD\"))"
   ]
  },
  {
   "cell_type": "code",
   "execution_count": 73,
   "id": "82ff3a73",
   "metadata": {},
   "outputs": [],
   "source": [
    "# Convert all date columns to the correct date format or Null\n",
    "dim_external_vendor_info = dim_external_vendor_info.with_columns(\n",
    "    dim_external_vendor_info[\"Contract_Start_Date\"]\n",
    "    .str.to_date(\"%Y-%m-%d\")\n",
    "    .alias(\"Contract_Start_Date\")\n",
    ")"
   ]
  },
  {
   "cell_type": "markdown",
   "id": "a2b6fb00",
   "metadata": {},
   "source": [
    "## Validate column formatting \n",
    "Ensure that all of the columns have the first 10 digits in the correct date format or are null. Any that return a false will need to be handled differently. If this checks out, we can safely strip the date and convert to date. "
   ]
  },
  {
   "cell_type": "code",
   "execution_count": 74,
   "id": "9e2c8a7b",
   "metadata": {},
   "outputs": [
    {
     "data": {
      "text/plain": [
       "0"
      ]
     },
     "execution_count": 74,
     "metadata": {},
     "output_type": "execute_result"
    }
   ],
   "source": [
    "dim_external_vendor_info.with_columns(\n",
    "    dim_external_vendor_info[\"Contract_End_Date\"]\n",
    "    .str.slice(0,10) # Slice off everything beyond the date parameters\n",
    "    .str.contains(r\"^\\d{4}-\\d{2}-\\d{2}$\")\n",
    "    .alias(\"is_valid_date\")\n",
    ").filter(pl.col(\"is_valid_date\") == False).shape[0]\n",
    "\n"
   ]
  },
  {
   "cell_type": "code",
   "execution_count": 75,
   "id": "909b5544",
   "metadata": {},
   "outputs": [],
   "source": [
    "# Convert all date columns to the correct date format or Null\n",
    "dim_external_vendor_info = dim_external_vendor_info.with_columns(\n",
    "    dim_external_vendor_info[\"Contract_End_Date\"]\n",
    "    .str.slice(0,10) # Slice off everything beyond the date parameters\n",
    "    .str.to_date(\"%Y-%m-%d\")\n",
    "    .alias(\"Contract_End_Date\")\n",
    ")"
   ]
  },
  {
   "cell_type": "code",
   "execution_count": 76,
   "id": "300e8f81",
   "metadata": {},
   "outputs": [
    {
     "data": {
      "text/html": [
       "<div><style>\n",
       ".dataframe > thead > tr,\n",
       ".dataframe > tbody > tr {\n",
       "  text-align: right;\n",
       "  white-space: pre-wrap;\n",
       "}\n",
       "</style>\n",
       "<small>shape: (5, 6)</small><table border=\"1\" class=\"dataframe\"><thead><tr><th>Vendor_ID</th><th>Vendor_Name</th><th>Service_Type</th><th>Contract_Start_Date</th><th>Contract_End_Date</th><th>Amount_Paid_YTD</th></tr><tr><td>str</td><td>str</td><td>str</td><td>date</td><td>date</td><td>f64</td></tr></thead><tbody><tr><td>&quot;VND0001&quot;</td><td>&quot;Taylor-Robinson&quot;</td><td>&quot;Consulting&quot;</td><td>2020-10-28</td><td>2025-04-18</td><td>89484.49</td></tr><tr><td>&quot;VND0002&quot;</td><td>&quot;Mitchell-Sanchez&quot;</td><td>&quot;Supplies&quot;</td><td>2022-12-05</td><td>2024-08-09</td><td>75736.47</td></tr><tr><td>&quot;VND0003&quot;</td><td>&quot;Hardy-Swanson&quot;</td><td>&quot;Maintenance&quot;</td><td>2021-09-29</td><td>2025-04-18</td><td>44447.81</td></tr><tr><td>&quot;VND0004&quot;</td><td>&quot;Benjamin-Medina&quot;</td><td>&quot;Maintenance&quot;</td><td>2023-07-15</td><td>2024-11-10</td><td>16022.84</td></tr><tr><td>&quot;VND0005&quot;</td><td>&quot;Herrera, Campbell and Rios&quot;</td><td>&quot;Supplies&quot;</td><td>2022-08-21</td><td>2025-04-18</td><td>88657.4</td></tr></tbody></table></div>"
      ],
      "text/plain": [
       "shape: (5, 6)\n",
       "┌───────────┬─────────────────┬──────────────┬─────────────────┬─────────────────┬─────────────────┐\n",
       "│ Vendor_ID ┆ Vendor_Name     ┆ Service_Type ┆ Contract_Start_ ┆ Contract_End_Da ┆ Amount_Paid_YTD │\n",
       "│ ---       ┆ ---             ┆ ---          ┆ Date            ┆ te              ┆ ---             │\n",
       "│ str       ┆ str             ┆ str          ┆ ---             ┆ ---             ┆ f64             │\n",
       "│           ┆                 ┆              ┆ date            ┆ date            ┆                 │\n",
       "╞═══════════╪═════════════════╪══════════════╪═════════════════╪═════════════════╪═════════════════╡\n",
       "│ VND0001   ┆ Taylor-Robinson ┆ Consulting   ┆ 2020-10-28      ┆ 2025-04-18      ┆ 89484.49        │\n",
       "│ VND0002   ┆ Mitchell-Sanche ┆ Supplies     ┆ 2022-12-05      ┆ 2024-08-09      ┆ 75736.47        │\n",
       "│           ┆ z               ┆              ┆                 ┆                 ┆                 │\n",
       "│ VND0003   ┆ Hardy-Swanson   ┆ Maintenance  ┆ 2021-09-29      ┆ 2025-04-18      ┆ 44447.81        │\n",
       "│ VND0004   ┆ Benjamin-Medina ┆ Maintenance  ┆ 2023-07-15      ┆ 2024-11-10      ┆ 16022.84        │\n",
       "│ VND0005   ┆ Herrera,        ┆ Supplies     ┆ 2022-08-21      ┆ 2025-04-18      ┆ 88657.4         │\n",
       "│           ┆ Campbell and    ┆              ┆                 ┆                 ┆                 │\n",
       "│           ┆ Rios            ┆              ┆                 ┆                 ┆                 │\n",
       "└───────────┴─────────────────┴──────────────┴─────────────────┴─────────────────┴─────────────────┘"
      ]
     },
     "execution_count": 76,
     "metadata": {},
     "output_type": "execute_result"
    }
   ],
   "source": [
    "dim_external_vendor_info.head()"
   ]
  },
  {
   "cell_type": "code",
   "execution_count": 77,
   "id": "a4b63932",
   "metadata": {},
   "outputs": [
    {
     "data": {
      "text/plain": [
       "[String, String, String, Date, Date, Float64]"
      ]
     },
     "execution_count": 77,
     "metadata": {},
     "output_type": "execute_result"
    }
   ],
   "source": [
    "dim_external_vendor_info.dtypes"
   ]
  },
  {
   "cell_type": "markdown",
   "id": "5d74f5f8",
   "metadata": {},
   "source": [
    "Now that the table has the correct data types for the schema, we can save it as a parquet file, ready to pass to Snowflake. "
   ]
  },
  {
   "cell_type": "code",
   "execution_count": 78,
   "id": "8525fe38",
   "metadata": {},
   "outputs": [],
   "source": [
    "dim_external_vendor_info.write_parquet(\"dim_external_vendor_info.parquet\")"
   ]
  },
  {
   "cell_type": "markdown",
   "id": "3c9f6e6b",
   "metadata": {},
   "source": [
    "Next table: Ultimately, I am going to map the column names that need date conversions or float conversions so that all tables can be processed with a single function. "
   ]
  },
  {
   "cell_type": "code",
   "execution_count": 90,
   "id": "cf0ec8f5",
   "metadata": {},
   "outputs": [],
   "source": [
    "def float_validator(df, column_name):\n",
    "        null_count_a = df[column_name].null_count()\n",
    "        df = df.with_columns(df[column_name]\n",
    "                             .cast(pl.Float64)\n",
    "                             .alias(column_name))\n",
    "        null_count_b = df[column_name].null_count()\n",
    "        print(f'There were {null_count_b-null_count_a} invalid values that could not be coerced.')\n",
    "        return df\n",
    "        "
   ]
  },
  {
   "cell_type": "code",
   "execution_count": 118,
   "id": "0e4fb23d",
   "metadata": {},
   "outputs": [],
   "source": [
    "def int_validator(df, column_name):\n",
    "        null_count_a = df[column_name].null_count()\n",
    "        df = df.with_columns(df[column_name]\n",
    "                             .cast(pl.Int64)\n",
    "                             .alias(column_name))\n",
    "        null_count_b = df[column_name].null_count()\n",
    "        print(f'There were {null_count_b-null_count_a} invalid values that could not be coerced.')\n",
    "        return df"
   ]
  },
  {
   "cell_type": "code",
   "execution_count": 106,
   "id": "33752bef",
   "metadata": {},
   "outputs": [
    {
     "name": "stdout",
     "output_type": "stream",
     "text": [
      "There were 0 invalid values that could not be coerced.\n"
     ]
    }
   ],
   "source": [
    "dim_external_vendor_info = float_validator(dim_external_vendor_info, \"Amount_Paid_YTD\")"
   ]
  },
  {
   "cell_type": "code",
   "execution_count": 103,
   "id": "168904be",
   "metadata": {},
   "outputs": [],
   "source": [
    "def date_converter(df, column_name):\n",
    "    # Validate that columns will be coerced correctly\n",
    "    not_valid = df.with_columns(\n",
    "        df[column_name]\n",
    "            .str.slice(0,10) # Slice off everything beyond the date parameters\n",
    "            .str.contains(r\"^\\d{4}-\\d{2}-\\d{2}$\")\n",
    "            .alias(\"is_valid_date\")\n",
    "            ).filter(pl.col(\"is_valid_date\") == False).shape[0]\n",
    "\n",
    "    # Convert to dates\n",
    "    df = df.with_columns(\n",
    "        df[column_name]\n",
    "        .str.slice(0,10)\n",
    "        .str.to_date(\"%Y-%m-%d\")\n",
    "        .alias(column_name)\n",
    "    )\n",
    "    print(f'There were {not_valid} invalid dates formats that could not be coerced.')\n",
    "    return df\n",
    "    "
   ]
  },
  {
   "cell_type": "code",
   "execution_count": 107,
   "id": "4e61992e",
   "metadata": {},
   "outputs": [
    {
     "name": "stdout",
     "output_type": "stream",
     "text": [
      "There were 0 invalid dates formats that could not be coerced.\n"
     ]
    }
   ],
   "source": [
    "dim_external_vendor_info = date_converter(dim_external_vendor_info, \"Contract_Start_Date\")"
   ]
  },
  {
   "cell_type": "code",
   "execution_count": 108,
   "id": "d4735a11",
   "metadata": {},
   "outputs": [
    {
     "name": "stdout",
     "output_type": "stream",
     "text": [
      "There were 0 invalid dates formats that could not be coerced.\n"
     ]
    }
   ],
   "source": [
    "dim_external_vendor_info = date_converter(dim_external_vendor_info, \"Contract_End_Date\")"
   ]
  },
  {
   "cell_type": "code",
   "execution_count": 109,
   "id": "1a9bd6e6",
   "metadata": {},
   "outputs": [
    {
     "data": {
      "text/html": [
       "<div><style>\n",
       ".dataframe > thead > tr,\n",
       ".dataframe > tbody > tr {\n",
       "  text-align: right;\n",
       "  white-space: pre-wrap;\n",
       "}\n",
       "</style>\n",
       "<small>shape: (5, 6)</small><table border=\"1\" class=\"dataframe\"><thead><tr><th>Vendor_ID</th><th>Vendor_Name</th><th>Service_Type</th><th>Contract_Start_Date</th><th>Contract_End_Date</th><th>Amount_Paid_YTD</th></tr><tr><td>str</td><td>str</td><td>str</td><td>date</td><td>date</td><td>f64</td></tr></thead><tbody><tr><td>&quot;VND0001&quot;</td><td>&quot;Taylor-Robinson&quot;</td><td>&quot;Consulting&quot;</td><td>2020-10-28</td><td>2025-04-18</td><td>89484.49</td></tr><tr><td>&quot;VND0002&quot;</td><td>&quot;Mitchell-Sanchez&quot;</td><td>&quot;Supplies&quot;</td><td>2022-12-05</td><td>2024-08-09</td><td>75736.47</td></tr><tr><td>&quot;VND0003&quot;</td><td>&quot;Hardy-Swanson&quot;</td><td>&quot;Maintenance&quot;</td><td>2021-09-29</td><td>2025-04-18</td><td>44447.81</td></tr><tr><td>&quot;VND0004&quot;</td><td>&quot;Benjamin-Medina&quot;</td><td>&quot;Maintenance&quot;</td><td>2023-07-15</td><td>2024-11-10</td><td>16022.84</td></tr><tr><td>&quot;VND0005&quot;</td><td>&quot;Herrera, Campbell and Rios&quot;</td><td>&quot;Supplies&quot;</td><td>2022-08-21</td><td>2025-04-18</td><td>88657.4</td></tr></tbody></table></div>"
      ],
      "text/plain": [
       "shape: (5, 6)\n",
       "┌───────────┬─────────────────┬──────────────┬─────────────────┬─────────────────┬─────────────────┐\n",
       "│ Vendor_ID ┆ Vendor_Name     ┆ Service_Type ┆ Contract_Start_ ┆ Contract_End_Da ┆ Amount_Paid_YTD │\n",
       "│ ---       ┆ ---             ┆ ---          ┆ Date            ┆ te              ┆ ---             │\n",
       "│ str       ┆ str             ┆ str          ┆ ---             ┆ ---             ┆ f64             │\n",
       "│           ┆                 ┆              ┆ date            ┆ date            ┆                 │\n",
       "╞═══════════╪═════════════════╪══════════════╪═════════════════╪═════════════════╪═════════════════╡\n",
       "│ VND0001   ┆ Taylor-Robinson ┆ Consulting   ┆ 2020-10-28      ┆ 2025-04-18      ┆ 89484.49        │\n",
       "│ VND0002   ┆ Mitchell-Sanche ┆ Supplies     ┆ 2022-12-05      ┆ 2024-08-09      ┆ 75736.47        │\n",
       "│           ┆ z               ┆              ┆                 ┆                 ┆                 │\n",
       "│ VND0003   ┆ Hardy-Swanson   ┆ Maintenance  ┆ 2021-09-29      ┆ 2025-04-18      ┆ 44447.81        │\n",
       "│ VND0004   ┆ Benjamin-Medina ┆ Maintenance  ┆ 2023-07-15      ┆ 2024-11-10      ┆ 16022.84        │\n",
       "│ VND0005   ┆ Herrera,        ┆ Supplies     ┆ 2022-08-21      ┆ 2025-04-18      ┆ 88657.4         │\n",
       "│           ┆ Campbell and    ┆              ┆                 ┆                 ┆                 │\n",
       "│           ┆ Rios            ┆              ┆                 ┆                 ┆                 │\n",
       "└───────────┴─────────────────┴──────────────┴─────────────────┴─────────────────┴─────────────────┘"
      ]
     },
     "execution_count": 109,
     "metadata": {},
     "output_type": "execute_result"
    }
   ],
   "source": [
    "dim_external_vendor_info.head()"
   ]
  },
  {
   "cell_type": "code",
   "execution_count": 110,
   "id": "3bf0819a",
   "metadata": {},
   "outputs": [
    {
     "data": {
      "text/plain": [
       "[String, String, String, Date, Date, Float64]"
      ]
     },
     "execution_count": 110,
     "metadata": {},
     "output_type": "execute_result"
    }
   ],
   "source": [
    "dim_external_vendor_info.dtypes"
   ]
  },
  {
   "cell_type": "markdown",
   "id": "3a994e2f",
   "metadata": {},
   "source": [
    "Now we can make functions for each of the tables that will open, process, and save."
   ]
  },
  {
   "cell_type": "code",
   "execution_count": null,
   "id": "366123ec",
   "metadata": {},
   "outputs": [],
   "source": [
    "def external_vendor_processor(path='external_vendor_information.csv'):\n",
    "    df = pl.read_csv(path)\n",
    "    df = float_validator(df, \"Amount_Paid_YTD\")\n",
    "    df = date_converter(df, \"Contract_Start_Date\")\n",
    "    df = date_converter(df, \"Contract_End_Date\")\n",
    "    df.write_parquet(\"dim_external_vendor_info.parquet\")\n",
    "    print(f'File burned into dim_external_vendor_info.parquet') "
   ]
  },
  {
   "cell_type": "code",
   "execution_count": 124,
   "id": "310ae5ae",
   "metadata": {},
   "outputs": [
    {
     "name": "stdout",
     "output_type": "stream",
     "text": [
      "There were 0 invalid values that could not be coerced.\n",
      "There were 0 invalid dates formats that could not be coerced.\n",
      "There were 0 invalid dates formats that could not be coerced.\n",
      "File burned into dim_externale_vendor_info.parquet\n"
     ]
    }
   ],
   "source": [
    "external_vendor_processor('external_vendor_information.csv')"
   ]
  },
  {
   "cell_type": "code",
   "execution_count": 117,
   "id": "1741cc9e",
   "metadata": {},
   "outputs": [
    {
     "name": "stdout",
     "output_type": "stream",
     "text": [
      "['Holding_ID', 'Security_Name', 'Security_Type', 'Quantity_Held', 'Market_Price_Per_Unit', 'Total_Market_Value', 'Acquisition_Date']\n",
      "[String, String, String, Int64, Float64, Float64, String]\n"
     ]
    }
   ],
   "source": [
    "print(dim_portfolio_holdings.columns)\n",
    "print(dim_portfolio_holdings.dtypes)"
   ]
  },
  {
   "cell_type": "code",
   "execution_count": 125,
   "id": "efd6e67c",
   "metadata": {},
   "outputs": [],
   "source": [
    "def portfolio_holdings_processor(path='portfolio_holdings.csv'):\n",
    "    df = pl.read_csv(path)\n",
    "    df = int_validator(df, \"Quantity_Held\")\n",
    "    df = float_validator(df, \"Market_Price_Per_Unit\")\n",
    "    df = float_validator(df, \"Total_Market_Value\")\n",
    "    df = date_converter(df, \"Acquisition_Date\")\n",
    "    df.write_parquet(\"dim_portfolio_holdings.parquet\")\n",
    "    print(f'File written to dim_portfolio_holdings.parquet')\n",
    "    "
   ]
  },
  {
   "cell_type": "code",
   "execution_count": 126,
   "id": "251d23aa",
   "metadata": {},
   "outputs": [
    {
     "name": "stdout",
     "output_type": "stream",
     "text": [
      "There were 0 invalid values that could not be coerced.\n",
      "There were 0 invalid values that could not be coerced.\n",
      "There were 0 invalid values that could not be coerced.\n",
      "There were 0 invalid dates formats that could not be coerced.\n",
      "File written to dim_portfolio_holdings.parquet\n"
     ]
    }
   ],
   "source": [
    "portfolio_holdings_processor('portfolio_holdings.csv'\n",
    ")"
   ]
  },
  {
   "cell_type": "code",
   "execution_count": 127,
   "id": "4006c3c0",
   "metadata": {},
   "outputs": [
    {
     "name": "stdout",
     "output_type": "stream",
     "text": [
      "['Reporting_Period', 'Program_Name', 'Program_Cost', 'Participants', 'Successful_Outcomes', 'Program_ID', 'Budget_Allocation', 'Budget_Utilization_Rate', 'Completion_Rate', 'Participant_Satisfaction', 'Cost_per_Participant', 'Cost_per_Successful_Outcome', 'On_Time_Completion']\n",
      "[String, String, String, Int64, Int64, String, Float64, Float64, String, Float64, Float64, Float64, String]\n"
     ]
    }
   ],
   "source": [
    "print(dim_program_performance_metrics.columns)\n",
    "print(dim_program_performance_metrics.dtypes)"
   ]
  },
  {
   "cell_type": "code",
   "execution_count": 128,
   "id": "32515c85",
   "metadata": {},
   "outputs": [
    {
     "data": {
      "text/html": [
       "<div><style>\n",
       ".dataframe > thead > tr,\n",
       ".dataframe > tbody > tr {\n",
       "  text-align: right;\n",
       "  white-space: pre-wrap;\n",
       "}\n",
       "</style>\n",
       "<small>shape: (5, 13)</small><table border=\"1\" class=\"dataframe\"><thead><tr><th>Reporting_Period</th><th>Program_Name</th><th>Program_Cost</th><th>Participants</th><th>Successful_Outcomes</th><th>Program_ID</th><th>Budget_Allocation</th><th>Budget_Utilization_Rate</th><th>Completion_Rate</th><th>Participant_Satisfaction</th><th>Cost_per_Participant</th><th>Cost_per_Successful_Outcome</th><th>On_Time_Completion</th></tr><tr><td>str</td><td>str</td><td>str</td><td>i64</td><td>i64</td><td>str</td><td>f64</td><td>f64</td><td>str</td><td>f64</td><td>f64</td><td>f64</td><td>str</td></tr></thead><tbody><tr><td>&quot;2024-06-30 00:00:00&quot;</td><td>&quot;Maintenance&quot;</td><td>&quot;1999755.17&quot;</td><td>225</td><td>131</td><td>&quot;PRG050&quot;</td><td>2.9725e6</td><td>67.27</td><td>&quot;58.22%&quot;</td><td>3.7</td><td>8887.8</td><td>15265.31</td><td>&quot;No&quot;</td></tr><tr><td>&quot;2024-03-31 00:00:00&quot;</td><td>&quot;Consulting Fees&quot;</td><td>&quot;2238505.6&quot;</td><td>442</td><td>397</td><td>&quot;PRG034&quot;</td><td>2.5844e6</td><td>86.62</td><td>&quot;89.82%&quot;</td><td>4.0</td><td>5064.49</td><td>5638.55</td><td>&quot;No&quot;</td></tr><tr><td>&quot;2023-12-31 00:00:00&quot;</td><td>&quot;Software Subscription&quot;</td><td>&quot;1282043.08&quot;</td><td>920</td><td>518</td><td>&quot;PRG032&quot;</td><td>1.8265e6</td><td>70.19</td><td>&quot;56.3%&quot;</td><td>4.4</td><td>1393.53</td><td>2474.99</td><td>&quot;No&quot;</td></tr><tr><td>&quot;2024-03-31 00:00:00&quot;</td><td>&quot;Maintenance&quot;</td><td>&quot;1930857.38&quot;</td><td>683</td><td>572</td><td>&quot;PRG039&quot;</td><td>2.5869e6</td><td>74.64</td><td>&quot;83.75%&quot;</td><td>4.0</td><td>2827.02</td><td>3375.62</td><td>&quot;No&quot;</td></tr><tr><td>&quot;2023-12-31 00:00:00&quot;</td><td>&quot;Reimbursement&quot;</td><td>&quot;720991.95&quot;</td><td>null</td><td>416</td><td>&quot;PRG031&quot;</td><td>970445.27</td><td>74.29</td><td>&quot;87.39%&quot;</td><td>4.3</td><td>1514.69</td><td>1733.15</td><td>&quot;No&quot;</td></tr></tbody></table></div>"
      ],
      "text/plain": [
       "shape: (5, 13)\n",
       "┌───────────┬───────────┬───────────┬───────────┬───┬───────────┬───────────┬───────────┬──────────┐\n",
       "│ Reporting ┆ Program_N ┆ Program_C ┆ Participa ┆ … ┆ Participa ┆ Cost_per_ ┆ Cost_per_ ┆ On_Time_ │\n",
       "│ _Period   ┆ ame       ┆ ost       ┆ nts       ┆   ┆ nt_Satisf ┆ Participa ┆ Successfu ┆ Completi │\n",
       "│ ---       ┆ ---       ┆ ---       ┆ ---       ┆   ┆ action    ┆ nt        ┆ l_Outcome ┆ on       │\n",
       "│ str       ┆ str       ┆ str       ┆ i64       ┆   ┆ ---       ┆ ---       ┆ ---       ┆ ---      │\n",
       "│           ┆           ┆           ┆           ┆   ┆ f64       ┆ f64       ┆ f64       ┆ str      │\n",
       "╞═══════════╪═══════════╪═══════════╪═══════════╪═══╪═══════════╪═══════════╪═══════════╪══════════╡\n",
       "│ 2024-06-3 ┆ Maintenan ┆ 1999755.1 ┆ 225       ┆ … ┆ 3.7       ┆ 8887.8    ┆ 15265.31  ┆ No       │\n",
       "│ 0         ┆ ce        ┆ 7         ┆           ┆   ┆           ┆           ┆           ┆          │\n",
       "│ 00:00:00  ┆           ┆           ┆           ┆   ┆           ┆           ┆           ┆          │\n",
       "│ 2024-03-3 ┆ Consultin ┆ 2238505.6 ┆ 442       ┆ … ┆ 4.0       ┆ 5064.49   ┆ 5638.55   ┆ No       │\n",
       "│ 1         ┆ g Fees    ┆           ┆           ┆   ┆           ┆           ┆           ┆          │\n",
       "│ 00:00:00  ┆           ┆           ┆           ┆   ┆           ┆           ┆           ┆          │\n",
       "│ 2023-12-3 ┆ Software  ┆ 1282043.0 ┆ 920       ┆ … ┆ 4.4       ┆ 1393.53   ┆ 2474.99   ┆ No       │\n",
       "│ 1         ┆ Subscript ┆ 8         ┆           ┆   ┆           ┆           ┆           ┆          │\n",
       "│ 00:00:00  ┆ ion       ┆           ┆           ┆   ┆           ┆           ┆           ┆          │\n",
       "│ 2024-03-3 ┆ Maintenan ┆ 1930857.3 ┆ 683       ┆ … ┆ 4.0       ┆ 2827.02   ┆ 3375.62   ┆ No       │\n",
       "│ 1         ┆ ce        ┆ 8         ┆           ┆   ┆           ┆           ┆           ┆          │\n",
       "│ 00:00:00  ┆           ┆           ┆           ┆   ┆           ┆           ┆           ┆          │\n",
       "│ 2023-12-3 ┆ Reimburse ┆ 720991.95 ┆ null      ┆ … ┆ 4.3       ┆ 1514.69   ┆ 1733.15   ┆ No       │\n",
       "│ 1         ┆ ment      ┆           ┆           ┆   ┆           ┆           ┆           ┆          │\n",
       "│ 00:00:00  ┆           ┆           ┆           ┆   ┆           ┆           ┆           ┆          │\n",
       "└───────────┴───────────┴───────────┴───────────┴───┴───────────┴───────────┴───────────┴──────────┘"
      ]
     },
     "execution_count": 128,
     "metadata": {},
     "output_type": "execute_result"
    }
   ],
   "source": [
    "dim_program_performance_metrics.head()"
   ]
  },
  {
   "cell_type": "code",
   "execution_count": 156,
   "id": "fa98191f",
   "metadata": {},
   "outputs": [],
   "source": [
    "def program_performance_processor(path='program_performance_metrics.xlsx'):\n",
    "    df = pl.read_excel(path, sheet_name=\"Program Metrics\")\n",
    "    df = float_validator(df, \"Program_Cost\")\n",
    "    df = int_validator(df, \"Participants\")\n",
    "    df = int_validator(df, \"Successful_Outcomes\")\n",
    "    df = float_validator(df, \"Budget_Allocation\")\n",
    "    df = float_validator(df, \"Budget_Utilization_Rate\")\n",
    "    df = float_validator(df, \"Participant_Satisfaction\")\n",
    "    df = float_validator(df, \"Cost_per_Participant\")\n",
    "    df = float_validator(df, \"Cost_per_Successful_Outcome\")\n",
    "    df.write_parquet(\"dim_program_performance_metrics.parquet\")\n",
    "    print(f'File written to dim_program_performance_metrics.parquet')\n"
   ]
  },
  {
   "cell_type": "code",
   "execution_count": 157,
   "id": "ba8abaa7",
   "metadata": {},
   "outputs": [
    {
     "name": "stdout",
     "output_type": "stream",
     "text": [
      "There were 0 invalid values that could not be coerced.\n",
      "There were 0 invalid values that could not be coerced.\n",
      "There were 0 invalid values that could not be coerced.\n",
      "There were 0 invalid values that could not be coerced.\n",
      "There were 0 invalid values that could not be coerced.\n",
      "There were 0 invalid values that could not be coerced.\n",
      "There were 0 invalid values that could not be coerced.\n",
      "There were 0 invalid values that could not be coerced.\n",
      "File written to dim_program_performance_metrics.parquet\n"
     ]
    }
   ],
   "source": [
    "program_performance_processor('program_performance_metrics.xlsx')"
   ]
  },
  {
   "cell_type": "code",
   "execution_count": 151,
   "id": "3b5d810f",
   "metadata": {},
   "outputs": [
    {
     "data": {
      "text/html": [
       "<div><style>\n",
       ".dataframe > thead > tr,\n",
       ".dataframe > tbody > tr {\n",
       "  text-align: right;\n",
       "  white-space: pre-wrap;\n",
       "}\n",
       "</style>\n",
       "<small>shape: (5, 7)</small><table border=\"1\" class=\"dataframe\"><thead><tr><th>Transaction_ID</th><th>Transaction_Date</th><th>Transaction_Amount</th><th>Transaction_Type</th><th>Department</th><th>Vendor_Name</th><th>Description</th></tr><tr><td>str</td><td>str</td><td>f64</td><td>str</td><td>str</td><td>str</td><td>str</td></tr></thead><tbody><tr><td>&quot;TXN00003763&quot;</td><td>&quot;2024-01-12&quot;</td><td>49388.52</td><td>&quot;Expense&quot;</td><td>&quot;Administration&quot;</td><td>&quot;Conner, Foster and Johnson&quot;</td><td>&quot;Software Subscription&quot;</td></tr><tr><td>&quot;TXN00007941&quot;</td><td>&quot;2025-09-29 13:32:35.851475&quot;</td><td>52924.48</td><td>&quot;Expense&quot;</td><td>&quot;Compliance&quot;</td><td>&quot;Cole, Nunez and Harris&quot;</td><td>&quot;Consulting Fees&quot;</td></tr><tr><td>&quot;TXN00007395&quot;</td><td>&quot;2025-03-02&quot;</td><td>140902.59</td><td>&quot;Expense&quot;</td><td>&quot;Administration&quot;</td><td>&quot;Tran-Sanchez&quot;</td><td>&quot;Office Supplies&quot;</td></tr><tr><td>&quot;TXN00009310&quot;</td><td>&quot;2024-06-22&quot;</td><td>60473.14</td><td>&quot;Expense&quot;</td><td>&quot;Compliance&quot;</td><td>&quot;Garza-Bright&quot;</td><td>&quot;Office Supplies&quot;</td></tr><tr><td>&quot;TXN00009084&quot;</td><td>&quot;2025-04-13&quot;</td><td>137488.96</td><td>&quot;Expense&quot;</td><td>&quot;Administration&quot;</td><td>&quot;Serrano-Butler&quot;</td><td>&quot;Event Sponsorship&quot;</td></tr></tbody></table></div>"
      ],
      "text/plain": [
       "shape: (5, 7)\n",
       "┌──────────────┬─────────────┬─────────────┬─────────────┬─────────────┬─────────────┬─────────────┐\n",
       "│ Transaction_ ┆ Transaction ┆ Transaction ┆ Transaction ┆ Department  ┆ Vendor_Name ┆ Description │\n",
       "│ ID           ┆ _Date       ┆ _Amount     ┆ _Type       ┆ ---         ┆ ---         ┆ ---         │\n",
       "│ ---          ┆ ---         ┆ ---         ┆ ---         ┆ str         ┆ str         ┆ str         │\n",
       "│ str          ┆ str         ┆ f64         ┆ str         ┆             ┆             ┆             │\n",
       "╞══════════════╪═════════════╪═════════════╪═════════════╪═════════════╪═════════════╪═════════════╡\n",
       "│ TXN00003763  ┆ 2024-01-12  ┆ 49388.52    ┆ Expense     ┆ Administrat ┆ Conner,     ┆ Software    │\n",
       "│              ┆             ┆             ┆             ┆ ion         ┆ Foster and  ┆ Subscriptio │\n",
       "│              ┆             ┆             ┆             ┆             ┆ Johnson     ┆ n           │\n",
       "│ TXN00007941  ┆ 2025-09-29  ┆ 52924.48    ┆ Expense     ┆ Compliance  ┆ Cole, Nunez ┆ Consulting  │\n",
       "│              ┆ 13:32:35.85 ┆             ┆             ┆             ┆ and Harris  ┆ Fees        │\n",
       "│              ┆ 1475        ┆             ┆             ┆             ┆             ┆             │\n",
       "│ TXN00007395  ┆ 2025-03-02  ┆ 140902.59   ┆ Expense     ┆ Administrat ┆ Tran-Sanche ┆ Office      │\n",
       "│              ┆             ┆             ┆             ┆ ion         ┆ z           ┆ Supplies    │\n",
       "│ TXN00009310  ┆ 2024-06-22  ┆ 60473.14    ┆ Expense     ┆ Compliance  ┆ Garza-Brigh ┆ Office      │\n",
       "│              ┆             ┆             ┆             ┆             ┆ t           ┆ Supplies    │\n",
       "│ TXN00009084  ┆ 2025-04-13  ┆ 137488.96   ┆ Expense     ┆ Administrat ┆ Serrano-But ┆ Event       │\n",
       "│              ┆             ┆             ┆             ┆ ion         ┆ ler         ┆ Sponsorship │\n",
       "└──────────────┴─────────────┴─────────────┴─────────────┴─────────────┴─────────────┴─────────────┘"
      ]
     },
     "execution_count": 151,
     "metadata": {},
     "output_type": "execute_result"
    }
   ],
   "source": [
    "fact_transactions = pl.read_csv(\"transactions.csv\")\n",
    "fact_transactions.head()"
   ]
  },
  {
   "cell_type": "code",
   "execution_count": 158,
   "id": "0383a321",
   "metadata": {},
   "outputs": [],
   "source": [
    "def transactions_processor(path='transactions.csv'):\n",
    "    df = pl.read_csv(path)\n",
    "    df = date_converter(df, 'Transaction_Date')\n",
    "    df = float_validator(df, \"Transaction_Amount\")\n",
    "    df.write_parquet(\"transactions.parquet\")\n",
    "    print(f'File written to transactions.parquet')"
   ]
  },
  {
   "cell_type": "code",
   "execution_count": null,
   "id": "c544eb60",
   "metadata": {},
   "outputs": [
    {
     "name": "stdout",
     "output_type": "stream",
     "text": [
      "There were 0 invalid dates formats that could not be coerced.\n",
      "There were 0 invalid values that could not be coerced.\n",
      "File written to transactions.parquet\n"
     ]
    }
   ],
   "source": [
    "transactions_processor('fact_transactions.csv')"
   ]
  },
  {
   "cell_type": "code",
   "execution_count": 161,
   "id": "0e009c55",
   "metadata": {},
   "outputs": [
    {
     "data": {
      "text/html": [
       "<div><style>\n",
       ".dataframe > thead > tr,\n",
       ".dataframe > tbody > tr {\n",
       "  text-align: right;\n",
       "  white-space: pre-wrap;\n",
       "}\n",
       "</style>\n",
       "<small>shape: (5, 7)</small><table border=\"1\" class=\"dataframe\"><thead><tr><th>Property_ID</th><th>Owner_Type</th><th>Owner_Name</th><th>Property_Type</th><th>Reported_Date</th><th>Property_Value</th><th>Claim_Status</th></tr><tr><td>str</td><td>str</td><td>str</td><td>str</td><td>str</td><td>f64</td><td>str</td></tr></thead><tbody><tr><td>&quot;UP0001&quot;</td><td>&quot;Vendor&quot;</td><td>&quot;Carroll, Rodriguez and Morgan&quot;</td><td>&quot;Safe Deposit Box&quot;</td><td>&quot;2018-09-30&quot;</td><td>5011.73</td><td>&quot;Unclaimed&quot;</td></tr><tr><td>&quot;UP0002&quot;</td><td>&quot;Individual&quot;</td><td>&quot;Kyle Stark&quot;</td><td>&quot;Bank Account&quot;</td><td>&quot;2022-03-31&quot;</td><td>8860.79</td><td>&quot;Unclaimed&quot;</td></tr><tr><td>&quot;UP0003&quot;</td><td>&quot;Individual&quot;</td><td>&quot;Kelly Robinson DDS&quot;</td><td>&quot;Insurance Claim&quot;</td><td>&quot;2022-03-31&quot;</td><td>6253.99</td><td>&quot;Unclaimed&quot;</td></tr><tr><td>&quot;UP0004&quot;</td><td>&quot;Individual&quot;</td><td>&quot;Dylan Bryant&quot;</td><td>&quot;Safe Deposit Box&quot;</td><td>&quot;2018-12-31&quot;</td><td>7916.36</td><td>&quot;Unclaimed&quot;</td></tr><tr><td>&quot;UP0005&quot;</td><td>&quot;Individual&quot;</td><td>&quot;Christopher Chavez&quot;</td><td>&quot;Insurance Claim&quot;</td><td>&quot;2018-12-31&quot;</td><td>443.81</td><td>&quot;Unclaimed&quot;</td></tr></tbody></table></div>"
      ],
      "text/plain": [
       "shape: (5, 7)\n",
       "┌─────────────┬────────────┬──────────────┬──────────────┬─────────────┬─────────────┬─────────────┐\n",
       "│ Property_ID ┆ Owner_Type ┆ Owner_Name   ┆ Property_Typ ┆ Reported_Da ┆ Property_Va ┆ Claim_Statu │\n",
       "│ ---         ┆ ---        ┆ ---          ┆ e            ┆ te          ┆ lue         ┆ s           │\n",
       "│ str         ┆ str        ┆ str          ┆ ---          ┆ ---         ┆ ---         ┆ ---         │\n",
       "│             ┆            ┆              ┆ str          ┆ str         ┆ f64         ┆ str         │\n",
       "╞═════════════╪════════════╪══════════════╪══════════════╪═════════════╪═════════════╪═════════════╡\n",
       "│ UP0001      ┆ Vendor     ┆ Carroll,     ┆ Safe Deposit ┆ 2018-09-30  ┆ 5011.73     ┆ Unclaimed   │\n",
       "│             ┆            ┆ Rodriguez    ┆ Box          ┆             ┆             ┆             │\n",
       "│             ┆            ┆ and Morgan   ┆              ┆             ┆             ┆             │\n",
       "│ UP0002      ┆ Individual ┆ Kyle Stark   ┆ Bank Account ┆ 2022-03-31  ┆ 8860.79     ┆ Unclaimed   │\n",
       "│ UP0003      ┆ Individual ┆ Kelly        ┆ Insurance    ┆ 2022-03-31  ┆ 6253.99     ┆ Unclaimed   │\n",
       "│             ┆            ┆ Robinson DDS ┆ Claim        ┆             ┆             ┆             │\n",
       "│ UP0004      ┆ Individual ┆ Dylan Bryant ┆ Safe Deposit ┆ 2018-12-31  ┆ 7916.36     ┆ Unclaimed   │\n",
       "│             ┆            ┆              ┆ Box          ┆             ┆             ┆             │\n",
       "│ UP0005      ┆ Individual ┆ Christopher  ┆ Insurance    ┆ 2018-12-31  ┆ 443.81      ┆ Unclaimed   │\n",
       "│             ┆            ┆ Chavez       ┆ Claim        ┆             ┆             ┆             │\n",
       "└─────────────┴────────────┴──────────────┴──────────────┴─────────────┴─────────────┴─────────────┘"
      ]
     },
     "execution_count": 161,
     "metadata": {},
     "output_type": "execute_result"
    }
   ],
   "source": [
    "fact_unclaimed_property_records.head()"
   ]
  },
  {
   "cell_type": "code",
   "execution_count": 165,
   "id": "bd3a347d",
   "metadata": {},
   "outputs": [],
   "source": [
    "def unclaimed_record_processor(path=\"unclaimed_property_records.csv\"):\n",
    "    df = pl.read_csv(path)\n",
    "    df = date_converter(df, \"Reported_Date\")\n",
    "    df = float_validator(df, \"Property_Value\")\n",
    "    df.write_parquet(\"fact_unclaimed_property_records.parquet\")\n",
    "    print(f'File written to fact_unclaimed_property_records.parquet')\n"
   ]
  },
  {
   "cell_type": "code",
   "execution_count": 166,
   "id": "b674c952",
   "metadata": {},
   "outputs": [
    {
     "name": "stdout",
     "output_type": "stream",
     "text": [
      "There were 0 invalid dates formats that could not be coerced.\n",
      "There were 0 invalid values that could not be coerced.\n",
      "File written to fact_unclaimed_property_records.parquet\n"
     ]
    }
   ],
   "source": [
    "unclaimed_record_processor(\"unclaimed_property_records.csv\")"
   ]
  }
 ],
 "metadata": {
  "kernelspec": {
   "display_name": "treasury",
   "language": "python",
   "name": "python3"
  },
  "language_info": {
   "codemirror_mode": {
    "name": "ipython",
    "version": 3
   },
   "file_extension": ".py",
   "mimetype": "text/x-python",
   "name": "python",
   "nbconvert_exporter": "python",
   "pygments_lexer": "ipython3",
   "version": "3.11.11"
  }
 },
 "nbformat": 4,
 "nbformat_minor": 5
}
